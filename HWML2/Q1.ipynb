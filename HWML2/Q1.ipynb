{
 "cells": [
  {
   "cell_type": "code",
   "execution_count": 1,
   "metadata": {},
   "outputs": [],
   "source": [
    "import sklearn\n",
    "from sklearn.model_selection import train_test_split\n",
    "from sklearn.datasets import load_boston\n",
    "import numpy as np\n",
    "import collections\n",
    "from IPython.core.interactiveshell import InteractiveShell\n",
    "InteractiveShell.ast_node_interactivity = \"all\""
   ]
  },
  {
   "cell_type": "code",
   "execution_count": 2,
   "metadata": {},
   "outputs": [
    {
     "data": {
      "text/plain": [
       "((506, 14), (506, 1))"
      ]
     },
     "execution_count": 2,
     "metadata": {},
     "output_type": "execute_result"
    },
    {
     "data": {
      "text/plain": [
       "((404, 14), (404, 1))"
      ]
     },
     "execution_count": 2,
     "metadata": {},
     "output_type": "execute_result"
    },
    {
     "data": {
      "text/plain": [
       "((102, 14), (102, 1))"
      ]
     },
     "execution_count": 2,
     "metadata": {},
     "output_type": "execute_result"
    }
   ],
   "source": [
    "# data preprocession\n",
    "\n",
    "boston_data = load_boston()\n",
    "X = boston_data.data\n",
    "y = boston_data.target.reshape(X.shape[0],1)\n",
    "x = [[1] for i in range(X.shape[0])]\n",
    "X = np.concatenate((x, X), axis=1)\n",
    "X_train, X_test, y_train, y_test = train_test_split(X, y, test_size=0.2, random_state=42)\n",
    "X.shape, y.shape\n",
    "X_train.shape, y_train.shape\n",
    "X_test.shape, y_test.shape"
   ]
  },
  {
   "cell_type": "code",
   "execution_count": 22,
   "metadata": {},
   "outputs": [],
   "source": [
    "def calLinearWeight(X, y):\n",
    "    return np.linalg.pinv(X.T.dot(X)).dot(X.T).dot(y)\n",
    "    \n",
    "def calRidgeWeight(X, y, lamb):\n",
    "    return np.linalg.pinv(lamb * np.eye(X.shape[1]) + X.T.dot(X)/ X.shape[0]).dot(X.T).dot(y) / X.shape[0]\n",
    "\n",
    "def calRSS(W, X, y):\n",
    "    _y = X.dot(W)\n",
    "    return np.sum((y-_y) ** 2)\n",
    "\n",
    "def calTSS(y):\n",
    "    return np.sum((y-np.mean(y)) ** 2)\n",
    "\n",
    "def calR2(W, X, y):\n",
    "    return 1 - calRSS(W, X, y)/calTSS(y)\n",
    "\n",
    "def findLambda(X, y, candidates):\n",
    "    '''\n",
    "    Use cross validation to find the best lambda\n",
    "    '''\n",
    "    N = X.shape[0]\n",
    "    k = 10\n",
    "    v_size = N // k\n",
    "    RSS = collections.defaultdict()\n",
    "    for l in candidates:\n",
    "        all_RSS = 0\n",
    "        for i in range(0, N, v_size):\n",
    "            Xt = np.append(X[:i], X[i+v_size:], axis=0)\n",
    "            Xv = X[i:i+v_size]\n",
    "            yt = np.append(y[:i], y[i+v_size:], axis=0)\n",
    "            yv = y[i:i+v_size]\n",
    "            tmp_W = calRidgeWeight(Xt, yt, l)\n",
    "            all_RSS += calRSS(tmp_W, Xv, yv)\n",
    "        RSS[l] = all_RSS / k\n",
    "        print('lambda', l, 'RSS:', all_RSS/k)\n",
    "    return min(RSS.items(), key=lambda x:x[1])[0]\n",
    "\n",
    "def polyTrans2(X):\n",
    "    tmp = X.T\n",
    "    trans_X = tmp[:1]\n",
    "    N = X.shape[0]\n",
    "\n",
    "    for i in range(1, X.shape[1]):\n",
    "        trans_X = np.append(trans_X, tmp[i].reshape(1, N), axis=0)\n",
    "        for j in range(i, X.shape[1]):\n",
    "            x = np.multiply(tmp[i], tmp[j])\n",
    "            trans_X = np.append(trans_X, x.reshape(1, N), axis=0)\n",
    "    return trans_X.T\n",
    "\n",
    "def report(W, Xtrain, Xtest, model):\n",
    "    print(model,':')\n",
    "    print('Train RSS =', calRSS(W, Xtrain, y_train))\n",
    "    print('Train TSS =', calTSS(y_train))\n",
    "    print('Train R2 =', calR2(W, Xtrain, y_train))\n",
    "\n",
    "    print('Test RSS =', calRSS(W, Xtest, y_test))\n",
    "    print('Test TSS =', calTSS(y_test))\n",
    "    print('Test R2 =', calR2(W, Xtest, y_test))"
   ]
  },
  {
   "cell_type": "code",
   "execution_count": 4,
   "metadata": {},
   "outputs": [
    {
     "name": "stdout",
     "output_type": "stream",
     "text": [
      "Linear regression model :\n",
      "Train RSS = 8743.13075230343\n",
      "Train TSS = 35096.85514851485\n",
      "Train R2 = 0.7508856358979673\n",
      "Test RSS = 2477.6941864655173\n",
      "Test TSS = 7480.045882352942\n",
      "Test R2 = 0.6687594935331964\n"
     ]
    }
   ],
   "source": [
    "# print RSS, TSS, R^2 of the training and test data using Linear Regression Model\n",
    "\n",
    "lr_W = calLinearWeight(X_train, y_train)\n",
    "report(lr_W, X_train, X_test, 'Linear regression model')"
   ]
  },
  {
   "cell_type": "code",
   "execution_count": 5,
   "metadata": {},
   "outputs": [
    {
     "name": "stdout",
     "output_type": "stream",
     "text": [
      "lambda 0.001 RSS: 985.5303571598619\n",
      "lambda 0.0005 RSS: 981.0336705807644\n",
      "lambda 0.0002 RSS: 979.4465881763223\n",
      "lambda 0.000165 RSS: 979.4201043290674\n",
      "lambda 0.000164 RSS: 979.4200860362125\n",
      "lambda 0.00016 RSS: 979.4204455452252\n",
      "lambda 0.0001 RSS: 979.5166725953457\n",
      "Best lambda is: 0.000164\n"
     ]
    }
   ],
   "source": [
    "best_lambda = findLambda(X_train, y_train, [0.001, 0.0005, 0.0002, 0.000165, 0.000164, 0.00016, 0.0001])\n",
    "print('Best lambda is:', best_lambda)"
   ]
  },
  {
   "cell_type": "code",
   "execution_count": 6,
   "metadata": {},
   "outputs": [
    {
     "name": "stdout",
     "output_type": "stream",
     "text": [
      "Ridge regression model :\n",
      "Train RSS = 8750.616788114796\n",
      "Train TSS = 35096.85514851485\n",
      "Train R2 = 0.7506723394137185\n",
      "Test RSS = 2507.544019049138\n",
      "Test TSS = 7480.045882352942\n",
      "Test R2 = 0.6647688986821617\n"
     ]
    }
   ],
   "source": [
    "# print RSS, TSS, R^2 of the training and test data using Ridge Regression Model with lambda=0.000164\n",
    "\n",
    "rr_W = calRidgeWeight(X_train, y_train, best_lambda)\n",
    "report(rr_W, X_train, X_test, 'Ridge regression model')"
   ]
  },
  {
   "cell_type": "code",
   "execution_count": 20,
   "metadata": {},
   "outputs": [
    {
     "data": {
      "text/plain": [
       "(404, 105)"
      ]
     },
     "execution_count": 20,
     "metadata": {},
     "output_type": "execute_result"
    }
   ],
   "source": [
    "trans_X = polyTrans2(X)\n",
    "trans_X_train, trans_X_test, y_train, y_test = train_test_split(trans_X, y, test_size=0.2, random_state=42)\n",
    "trans_X_train.shape"
   ]
  },
  {
   "cell_type": "code",
   "execution_count": 23,
   "metadata": {},
   "outputs": [
    {
     "name": "stdout",
     "output_type": "stream",
     "text": [
      "Linear regression with polynomial transformation model :\n",
      "Train RSS = 2214.1775807592558\n",
      "Train TSS = 35096.85514851485\n",
      "Train R2 = 0.9369123651851482\n",
      "Test RSS = 1339.516034046506\n",
      "Test TSS = 7480.045882352942\n",
      "Test R2 = 0.8209214147727735\n"
     ]
    }
   ],
   "source": [
    "lrt_W = calLinearWeight(trans_X_train, y_train)\n",
    "report(lrt_W, trans_X_train, trans_X_test, 'Linear regression with polynomial transformation model')"
   ]
  },
  {
   "cell_type": "code",
   "execution_count": 55,
   "metadata": {},
   "outputs": [
    {
     "name": "stdout",
     "output_type": "stream",
     "text": [
      "lambda 0.001 RSS: 795.961593978952\n",
      "lambda 0.0001 RSS: 779.2118934788183\n",
      "lambda 9e-05 RSS: 775.2466889295263\n",
      "lambda 8.8e-05 RSS: 774.1482519992259\n",
      "lambda 8.5e-05 RSS: 797.2605518672135\n",
      "Best lambda is: 8.8e-05\n"
     ]
    }
   ],
   "source": [
    "best_lambda2 = findLambda(trans_X_train, y_train, [0.001, 0.0001, 0.00009, 0.000088, 0.000085])\n",
    "print('Best lambda is:', best_lambda2)"
   ]
  },
  {
   "cell_type": "code",
   "execution_count": 25,
   "metadata": {},
   "outputs": [
    {
     "name": "stdout",
     "output_type": "stream",
     "text": [
      "Ridge regression with polynomial transformation model :\n",
      "Train RSS = 2129.584945611813\n",
      "Train TSS = 35096.85514851485\n",
      "Train R2 = 0.9393226277226172\n",
      "Test RSS = 1374.5312924632642\n",
      "Test TSS = 7480.045882352942\n",
      "Test R2 = 0.8162402592066871\n"
     ]
    }
   ],
   "source": [
    "# print RSS, TSS, R^2 of the training and test data using Ridge Regression with polynomial transformation Model with lambda=8.8e-05\n",
    "\n",
    "rrt_W = calRidgeWeight(trans_X_train, y_train, best_lambda2)\n",
    "report(rrt_W, trans_X_train, trans_X_test, 'Ridge regression with polynomial transformation model')"
   ]
  },
  {
   "cell_type": "code",
   "execution_count": 41,
   "metadata": {},
   "outputs": [
    {
     "data": {
      "text/plain": [
       "(105, 1)"
      ]
     },
     "execution_count": 41,
     "metadata": {},
     "output_type": "execute_result"
    },
    {
     "data": {
      "text/plain": [
       "array([[ 1.45725898e-01, -1.11337704e+01,  1.88300630e-04,\n",
       "         1.04067485e-01,  2.53487878e-01,  2.92143509e+00,\n",
       "        -1.28121053e+00,  2.12249261e-01, -1.92454512e-03,\n",
       "        -9.09796460e-02, -1.53193299e-01, -1.14701084e-03,\n",
       "         5.06520118e-01, -4.61670707e-04,  3.17390216e-02,\n",
       "         6.26069011e-01,  1.89131906e-04, -2.80546372e-03,\n",
       "        -4.11886075e-02, -1.17371518e+00, -1.22669263e-02,\n",
       "         1.10631412e-03, -2.38476900e-02, -1.54558650e-02,\n",
       "         6.85394644e-04, -1.37574520e-03,  2.07990678e-05,\n",
       "        -1.00694778e-02, -2.05822309e+00,  3.39362582e-02,\n",
       "        -3.46936280e-01, -7.00350252e-02,  1.47254624e-01,\n",
       "         4.54533225e-03,  5.07776999e-02, -8.09100557e-02,\n",
       "         6.93626811e-04, -5.43021305e-02,  3.17955809e-03,\n",
       "        -2.14970989e-02, -3.60124328e-01, -3.60124326e-01,\n",
       "        -2.33917279e+00, -4.13007417e+00,  4.92914876e-02,\n",
       "         3.89196377e-01, -8.36165906e-01,  9.44887406e-03,\n",
       "         1.23143456e+00,  3.43437248e-02, -5.42832973e-01,\n",
       "        -2.74860425e-01, -1.01599074e+00,  5.59193749e-01,\n",
       "        -1.03655861e-01,  2.05516802e+01, -2.83925139e+00,\n",
       "         2.23517536e-01, -7.53983284e+00, -2.39770509e-02,\n",
       "         1.44051445e+00,  8.99505191e+00,  1.03539453e+00,\n",
       "        -5.51591071e-02,  2.41735690e-02, -3.52504124e-01,\n",
       "        -5.09966509e-03, -3.79563837e-01, -7.18387811e-03,\n",
       "        -4.42104717e-02,  5.84787348e-01, -7.61311262e-05,\n",
       "        -5.39999862e-04,  1.45010481e-02, -5.06114401e-04,\n",
       "         2.92423994e-03, -4.65904396e-04, -7.79107392e-03,\n",
       "        -1.31551240e+01,  5.57871809e-01, -5.34769889e-02,\n",
       "        -1.93210575e-03, -9.25632366e-02, -3.47424929e-03,\n",
       "         6.44381857e-02,  3.74441569e+00, -1.11625919e-01,\n",
       "         7.94529143e-03, -9.04298534e-02,  2.85942681e-03,\n",
       "        -3.43213063e-02, -1.37687307e-01, -5.79848043e-05,\n",
       "         1.08309011e-02, -2.99633576e-04, -8.21588612e-04,\n",
       "        -7.03976652e-01,  5.07515894e-02,  4.70989250e-03,\n",
       "         2.12432536e-02,  1.12379687e-01, -3.07521733e-05,\n",
       "        -1.13135921e-04, -5.45388710e-01,  1.72068759e-02]])"
      ]
     },
     "execution_count": 41,
     "metadata": {},
     "output_type": "execute_result"
    }
   ],
   "source": [
    "lrt_W.shape\n",
    "lrt_W.T"
   ]
  },
  {
   "cell_type": "code",
   "execution_count": 42,
   "metadata": {},
   "outputs": [
    {
     "data": {
      "text/plain": [
       "array([[439.95654362]])"
      ]
     },
     "execution_count": 42,
     "metadata": {},
     "output_type": "execute_result"
    }
   ],
   "source": [
    "# Predict a new house price.\n",
    "\n",
    "X_pre = [1, 5, 0.5, 2, 0, 4, 8, 4, 6, 2, 2, 2, 4, 5.5]\n",
    "X_pre = np.array(X_pre)\n",
    "X_pre = X_pre.reshape(1, X_pre.shape[0])\n",
    "trans_X_pre = polyTrans2(X_pre)\n",
    "y_pre = trans_X_pre.dot(lrt_W)\n",
    "y_pre"
   ]
  },
  {
   "cell_type": "code",
   "execution_count": 53,
   "metadata": {},
   "outputs": [
    {
     "data": {
      "text/plain": [
       "(1, 105)"
      ]
     },
     "execution_count": 53,
     "metadata": {},
     "output_type": "execute_result"
    },
    {
     "data": {
      "text/plain": [
       "(1, 14)"
      ]
     },
     "execution_count": 53,
     "metadata": {},
     "output_type": "execute_result"
    },
    {
     "data": {
      "text/plain": [
       "array([[-16.31002566]])"
      ]
     },
     "execution_count": 53,
     "metadata": {},
     "output_type": "execute_result"
    },
    {
     "data": {
      "text/plain": [
       "array([[-10.44873713]])"
      ]
     },
     "execution_count": 53,
     "metadata": {},
     "output_type": "execute_result"
    },
    {
     "data": {
      "text/plain": [
       "array([[439.95654362]])"
      ]
     },
     "execution_count": 53,
     "metadata": {},
     "output_type": "execute_result"
    },
    {
     "data": {
      "text/plain": [
       "array([[389.11703453]])"
      ]
     },
     "execution_count": 53,
     "metadata": {},
     "output_type": "execute_result"
    }
   ],
   "source": [
    "trans_X_pre.shape\n",
    "X_pre.shape\n",
    "X_pre.dot(lr_W)\n",
    "X_pre.dot(rr_W)\n",
    "trans_X_pre.dot(lrt_W)\n",
    "trans_X_pre.dot(rrt_W)"
   ]
  },
  {
   "cell_type": "code",
   "execution_count": null,
   "metadata": {},
   "outputs": [],
   "source": []
  }
 ],
 "metadata": {
  "kernelspec": {
   "display_name": "Python 3",
   "language": "python",
   "name": "python3"
  },
  "language_info": {
   "codemirror_mode": {
    "name": "ipython",
    "version": 3
   },
   "file_extension": ".py",
   "mimetype": "text/x-python",
   "name": "python",
   "nbconvert_exporter": "python",
   "pygments_lexer": "ipython3",
   "version": "3.6.7"
  }
 },
 "nbformat": 4,
 "nbformat_minor": 2
}
