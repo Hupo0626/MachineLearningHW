{
 "cells": [
  {
   "cell_type": "code",
   "execution_count": 1,
   "metadata": {},
   "outputs": [],
   "source": [
    "import sklearn\n",
    "from sklearn.model_selection import train_test_split\n",
    "from sklearn.datasets import load_boston\n",
    "import numpy as np\n",
    "from IPython.core.interactiveshell import InteractiveShell\n",
    "InteractiveShell.ast_node_interactivity = \"all\""
   ]
  },
  {
   "cell_type": "code",
   "execution_count": 2,
   "metadata": {},
   "outputs": [
    {
     "data": {
      "text/plain": [
       "((404, 14), (404, 1))"
      ]
     },
     "execution_count": 2,
     "metadata": {},
     "output_type": "execute_result"
    },
    {
     "data": {
      "text/plain": [
       "((102, 14), (102, 1))"
      ]
     },
     "execution_count": 2,
     "metadata": {},
     "output_type": "execute_result"
    }
   ],
   "source": [
    "# data preprocession\n",
    "\n",
    "boston_data = load_boston()\n",
    "X = boston_data.data\n",
    "y = boston_data.target.reshape(X.shape[0],1)\n",
    "X_train, X_test, y_train, y_test = train_test_split(X, y, test_size=0.2, random_state=42)\n",
    "x1 = [[1] for i in range(X_train.shape[0])]\n",
    "x2 = [[1] for i in range(X_test.shape[0])]\n",
    "X_train = np.concatenate((x1, X_train), axis=1)\n",
    "X_test = np.concatenate((x2, X_test), axis=1)\n",
    "X_train.shape, y_train.shape\n",
    "X_test.shape, y_test.shape"
   ]
  },
  {
   "cell_type": "code",
   "execution_count": 3,
   "metadata": {},
   "outputs": [],
   "source": [
    "# linear regression model\n",
    "\n",
    "class MyLinearRegression:\n",
    "    def __init__(self, alpha=0.000005):\n",
    "        self.alpha = alpha\n",
    "        self.W = [[1] for _ in range(14)]\n",
    "        \n",
    "    def forward(self, X, W):\n",
    "        '''\n",
    "        Calculate predicted data _y.\n",
    "        '''\n",
    "        _y = X.dot(W)\n",
    "        return _y\n",
    "\n",
    "    def backward(self, X, W, y):\n",
    "        '''\n",
    "        Calculate gradient.\n",
    "        '''\n",
    "        dW = X.T.dot(X.dot(W) - y) / X.shape[0]\n",
    "        return dW\n",
    "    \n",
    "    def calRSS(self, _y, y):\n",
    "        '''\n",
    "        Calculate RSS.\n",
    "        '''\n",
    "        RSS = np.sum((_y-y) ** 2)\n",
    "        return RSS\n",
    "    \n",
    "    def train(self, X, y):\n",
    "        '''\n",
    "        Load and train data.\n",
    "        '''\n",
    "        self.loadParameters('noScaleChange.npy')\n",
    "        for b in range(10001):\n",
    "            # use new weight retrain the data\n",
    "            W = self.W\n",
    "            for i in range(5000):\n",
    "                # update weight W here\n",
    "                dW = self.backward(X, W, y)\n",
    "                W -= self.alpha * dW\n",
    "            self.updateParameters(W)\n",
    "            if b%1000==0:\n",
    "                _y = self.forward(X, W)\n",
    "                RSS = self.calRSS(_y, y)\n",
    "                print('Epoch', b+1, 'train_RSS:', RSS)\n",
    "        self.saveParameters(W)\n",
    "        return W, RSS\n",
    "    \n",
    "    def saveParameters(self, W):\n",
    "        np.save('attemptation', W)\n",
    "        \n",
    "    def loadParameters(self, filename):\n",
    "        try:\n",
    "            self.W = np.load(filename)\n",
    "        except:\n",
    "            print('No previous parameters, training from the start...')\n",
    "    \n",
    "    def updateParameters(self, W):\n",
    "        self.W = W\n"
   ]
  },
  {
   "cell_type": "code",
   "execution_count": 4,
   "metadata": {},
   "outputs": [
    {
     "name": "stdout",
     "output_type": "stream",
     "text": [
      "Epoch 1 train_RSS: 8780.743045723593\n",
      "Epoch 1001 train_RSS: 8778.214096573836\n",
      "Epoch 2001 train_RSS: 8775.855188959304\n",
      "Epoch 3001 train_RSS: 8773.654889200927\n",
      "Epoch 4001 train_RSS: 8771.602532524419\n",
      "Epoch 5001 train_RSS: 8769.688171329255\n",
      "Epoch 6001 train_RSS: 8767.902526943275\n",
      "Epoch 7001 train_RSS: 8766.236944627013\n",
      "Epoch 8001 train_RSS: 8764.683351607753\n",
      "Epoch 9001 train_RSS: 8763.23421793868\n",
      "Epoch 10001 train_RSS: 8761.88251999232\n"
     ]
    }
   ],
   "source": [
    "# Train data here\n",
    "\n",
    "lr_model = MyLinearRegression(alpha=0.000005)\n",
    "W, train_RSS = lr_model.train(X_train, y_train)"
   ]
  },
  {
   "cell_type": "code",
   "execution_count": 21,
   "metadata": {},
   "outputs": [
    {
     "data": {
      "text/plain": [
       "(8818.584680388702, 35096.85514851485, 0.7487357587147843)"
      ]
     },
     "execution_count": 21,
     "metadata": {},
     "output_type": "execute_result"
    }
   ],
   "source": [
    "# Calculate RSS, TSS, R^2 for the training and test data\n",
    "\n",
    "train_TSS = np.sum((y_train-np.mean(y_train)) ** 2)\n",
    "train_R2 = 1 - train_RSS/train_TSS\n",
    "\n",
    "train_RSS, train_TSS, train_R2"
   ]
  },
  {
   "cell_type": "code",
   "execution_count": 5,
   "metadata": {},
   "outputs": [
    {
     "data": {
      "text/plain": [
       "(2526.9031950426624, 7480.045882352942, 0.6621807894248112)"
      ]
     },
     "execution_count": 5,
     "metadata": {},
     "output_type": "execute_result"
    }
   ],
   "source": [
    "# W = np.load('attemptation.npy')\n",
    "_y = X_test.dot(W)\n",
    "# _y[:10]\n",
    "\n",
    "test_TSS = np.sum((y_test-np.mean(y_test)) ** 2)\n",
    "test_RSS = np.sum((y_test-_y) ** 2)\n",
    "test_R2 = 1 - test_RSS/test_TSS\n",
    "\n",
    "test_RSS, test_TSS, test_R2"
   ]
  },
  {
   "cell_type": "code",
   "execution_count": null,
   "metadata": {},
   "outputs": [],
   "source": []
  }
 ],
 "metadata": {
  "kernelspec": {
   "display_name": "Python 3",
   "language": "python",
   "name": "python3"
  },
  "language_info": {
   "codemirror_mode": {
    "name": "ipython",
    "version": 3
   },
   "file_extension": ".py",
   "mimetype": "text/x-python",
   "name": "python",
   "nbconvert_exporter": "python",
   "pygments_lexer": "ipython3",
   "version": "3.6.7"
  }
 },
 "nbformat": 4,
 "nbformat_minor": 2
}
