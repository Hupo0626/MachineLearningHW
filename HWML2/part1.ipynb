{
 "cells": [
  {
   "cell_type": "code",
   "execution_count": 1,
   "metadata": {},
   "outputs": [],
   "source": [
    "import numpy as np\n",
    "from IPython.core.interactiveshell import InteractiveShell\n",
    "InteractiveShell.ast_node_interactivity = \"all\""
   ]
  },
  {
   "cell_type": "code",
   "execution_count": 56,
   "metadata": {},
   "outputs": [
    {
     "data": {
      "text/plain": [
       "(3, 2, 1)"
      ]
     },
     "execution_count": 56,
     "metadata": {},
     "output_type": "execute_result"
    },
    {
     "name": "stdout",
     "output_type": "stream",
     "text": [
      "class +:\n",
      "miu:\n"
     ]
    },
    {
     "data": {
      "text/plain": [
       "array([[1.83333333],\n",
       "       [3.2       ]])"
      ]
     },
     "execution_count": 56,
     "metadata": {},
     "output_type": "execute_result"
    },
    {
     "name": "stdout",
     "output_type": "stream",
     "text": [
      "sigma:\n"
     ]
    },
    {
     "data": {
      "text/plain": [
       "array([[2.53555556, 3.93333333],\n",
       "       [3.93333333, 6.14      ]])"
      ]
     },
     "execution_count": 56,
     "metadata": {},
     "output_type": "execute_result"
    },
    {
     "name": "stdout",
     "output_type": "stream",
     "text": [
      "class -:\n",
      "miu:\n"
     ]
    },
    {
     "data": {
      "text/plain": [
       "array([[1.5       ],\n",
       "       [2.53333333]])"
      ]
     },
     "execution_count": 56,
     "metadata": {},
     "output_type": "execute_result"
    },
    {
     "name": "stdout",
     "output_type": "stream",
     "text": [
      "sigma:\n"
     ]
    },
    {
     "data": {
      "text/plain": [
       "array([[0.42      , 0.99      ],\n",
       "       [0.99      , 2.44222222]])"
      ]
     },
     "execution_count": 56,
     "metadata": {},
     "output_type": "execute_result"
    }
   ],
   "source": [
    "# No.10\n",
    "\n",
    "# X = np.array([[2.7,3.2,-0.4,0.6,1.8,2.1],[4.8,5.1,-0.3,0.5,2.8,4.3]])\n",
    "Xp = [[[2.7],[4.8]],[[3.2],[5.1]],[[-0.4],[-0.3]]]\n",
    "Xn = [[[0.6],[0.5]],[[1.8],[2.8]],[[2.1],[4.3]]]\n",
    "Xp = np.array(Xp)\n",
    "Xn = np.array(Xn)\n",
    "Xp.shape\n",
    "miu_p = np.mean(Xp, axis=0)\n",
    "miu_n = np.mean(Xn, axis=0)\n",
    "\n",
    "sigma_p = np.array([[0.,0.],[0.,0.]])\n",
    "sigma_n = np.array([[0.,0.],[0.,0.]])\n",
    "for i in range(3):\n",
    "    sigma_p += ((Xp[i,:,:]-miu_p).dot((Xp[i,:,:]-miu_p).T))\n",
    "    sigma_n += ((Xn[i,:,:]-miu_n) * (Xn[i,:,:]-miu_n).T)\n",
    "sigma_p /= 3\n",
    "sigma_n /= 3\n",
    "\n",
    "print('class +:')\n",
    "print('miu:')\n",
    "miu_p\n",
    "print('sigma:')\n",
    "sigma_p\n",
    "print('class -:')\n",
    "print('miu:')\n",
    "miu_n\n",
    "print('sigma:')\n",
    "sigma_n\n"
   ]
  },
  {
   "cell_type": "code",
   "execution_count": 59,
   "metadata": {},
   "outputs": [
    {
     "name": "stdout",
     "output_type": "stream",
     "text": [
      "log p(x|+) =  [[-4.45885026]]\n",
      "log p(x|-) =  [[-1.31866732]]\n"
     ]
    }
   ],
   "source": [
    "x = [[1.6],[2.3]]\n",
    "px_p = np.log(1/(2*np.pi*np.sqrt(np.linalg.det(sigma_p)))) - (x-miu_p).T.dot(np.linalg.inv(sigma_p)).dot(x-miu_p) / 2\n",
    "px_n = np.log(1/(2*np.pi*np.sqrt(np.linalg.det(sigma_n)))) - (x-miu_n).T.dot(np.linalg.inv(sigma_n)).dot(x-miu_n) / 2\n",
    "print('log p(x|+) = ', px_p)\n",
    "print('log p(x|-) = ', px_n)"
   ]
  },
  {
   "cell_type": "code",
   "execution_count": 2,
   "metadata": {},
   "outputs": [
    {
     "data": {
      "text/plain": [
       "(10, 2)"
      ]
     },
     "execution_count": 2,
     "metadata": {},
     "output_type": "execute_result"
    },
    {
     "data": {
      "text/plain": [
       "(10, 1)"
      ]
     },
     "execution_count": 2,
     "metadata": {},
     "output_type": "execute_result"
    },
    {
     "data": {
      "text/plain": [
       "array([[-1.97639231],\n",
       "       [ 0.07571859]])"
      ]
     },
     "execution_count": 2,
     "metadata": {},
     "output_type": "execute_result"
    }
   ],
   "source": [
    "# No.3\n",
    "\n",
    "X = [[1, 362],[1, 529],[1, 790],[1, 401],[1, 380],[1, 1454],[1, 1127],[1, 700],[1, 1050],[1, 428]]\n",
    "X = np.array(X)\n",
    "# x = [[1] for _ in range(len(X))]\n",
    "# x = np.array(x)\n",
    "# X = np.concatenate((x, X), axis=1)\n",
    "X.shape\n",
    "y = [[26],[40],[60],[22],[38],[110],[100],[46],[57],[28]]\n",
    "y = np.array(y)\n",
    "y.shape\n",
    "\n",
    "W = np.linalg.inv(X.T.dot(X)).dot(X.T).dot(y)\n",
    "W"
   ]
  },
  {
   "cell_type": "code",
   "execution_count": 186,
   "metadata": {},
   "outputs": [],
   "source": [
    "class LinearRegression:\n",
    "    def __init__(self, alpha=0.000001, reg_lambda=0.0):\n",
    "        self.alpha = alpha\n",
    "        self.w0 = 0\n",
    "        self.w1 = 0.1\n",
    "        \n",
    "    def forward(self, X, w0, w1):\n",
    "        \"\"\"\n",
    "        param x: height\n",
    "        param w0,w1: weight using for predict y\n",
    "        return: float: predict value\n",
    "        \"\"\"\n",
    "        _y = w1 * X + w0\n",
    "        return _y\n",
    "\n",
    "    def costFunction(self, _y, y):\n",
    "        cost = np.sum((_y-y) ** 2) / 10\n",
    "        return cost\n",
    "\n",
    "    def backward(self, X, w0, w1, y):\n",
    "        _y = self.forward(X, w0, w1)\n",
    "        dw0 = np.sum(_y-y) / X.shape[0]\n",
    "        dw1 = np.sum(np.multiply((_y-y), X)) / X.shape[0]\n",
    "        return dw0, dw1\n",
    "\n",
    "    def train(self, X, y):\n",
    "        for b in range(25):\n",
    "            w0, w1 = self.w0, self.w1\n",
    "            for i in range(10):\n",
    "                dw0, dw1 = self.backward(X, w0, w1, y)\n",
    "                w0 -= self.alpha*(10**6) * dw0\n",
    "                w1 -= self.alpha * dw1\n",
    "                _y = self.forward(X, w0, w1)\n",
    "                cost = self.costFunction(_y, y)\n",
    "            self.updateParameters(w0, w1)\n",
    "            print('Epoch', b+1, w0, w1, cost)\n",
    "        return w0, w1\n",
    "    \n",
    "    def updateParameters(self, w0, w1):\n",
    "        self.w0 = w0\n",
    "        self.w1 = w1\n"
   ]
  },
  {
   "cell_type": "code",
   "execution_count": 188,
   "metadata": {},
   "outputs": [
    {
     "name": "stdout",
     "output_type": "stream",
     "text": [
      "Epoch 1 -6.6246558817988115 0.08172152672554464 95.53582019904147\n",
      "Epoch 2 -3.971173200539998 0.07825485300075692 91.65779502673135\n",
      "Epoch 3 -2.824277002997446 0.0767964932518609 90.95821742020767\n",
      "Epoch 4 -2.3367587324489056 0.07617671679523133 90.83184557002724\n",
      "Epoch 5 -2.1295544971633675 0.0759133008781107 90.80901772957642\n",
      "Epoch 6 -2.0414889831048204 0.07580134439337857 90.80489410316036\n",
      "Epoch 7 -2.0040595614311973 0.07575376088103081 90.80414921032411\n",
      "Epoch 8 -1.988151386458377 0.07573353703555304 90.80401465270862\n",
      "Epoch 9 -1.9813901270092567 0.07572494153879947 90.80399034618969\n",
      "Epoch 10 -1.9785164705768528 0.07572128829864185 90.80398595545441\n",
      "Epoch 11 -1.9772951150951406 0.07571973560610623 90.80398516231098\n",
      "Epoch 12 -1.9767760171278699 0.07571907568395327 90.80398501903736\n",
      "Epoch 13 -1.976555391189173 0.07571879520521198 90.80398499315638\n",
      "Epoch 14 -1.9764616212114614 0.07571867599672057 90.8039849884812\n",
      "Epoch 15 -1.9764217672905142 0.07571862533097541 90.80398498763672\n",
      "Epoch 16 -1.9764048286598976 0.07571860379712576 90.80398498748416\n",
      "Epoch 17 -1.9763976294383285 0.07571859464485374 90.80398498745663\n",
      "Epoch 18 -1.976394569640144 0.07571859075497413 90.80398498745161\n",
      "Epoch 19 -1.9763932691710961 0.07571858910170558 90.80398498745075\n",
      "Epoch 20 -1.9763927164484403 0.07571858839903682 90.80398498745055\n",
      "Epoch 21 -1.9763924815313945 0.07571858810039 90.80398498745053\n",
      "Epoch 22 -1.9763923816874578 0.07571858797345976 90.80398498745052\n",
      "Epoch 23 -1.9763923392519915 0.07571858791951214 90.80398498745055\n",
      "Epoch 24 -1.9763923212161583 0.07571858789658342 90.80398498745056\n",
      "Epoch 25 -1.9763923135505985 0.07571858788683831 90.80398498745052\n"
     ]
    },
    {
     "data": {
      "text/plain": [
       "(-1.9763923135505985, 0.07571858788683831)"
      ]
     },
     "execution_count": 188,
     "metadata": {},
     "output_type": "execute_result"
    }
   ],
   "source": [
    "lg_model = LinearRegression(alpha=0.000001)\n",
    "w0, w1 = lg_model.train(X, y)\n",
    "w0, w1"
   ]
  },
  {
   "cell_type": "code",
   "execution_count": 137,
   "metadata": {},
   "outputs": [],
   "source": [
    "from sklearn.linear_model import LinearRegression"
   ]
  },
  {
   "cell_type": "code",
   "execution_count": 138,
   "metadata": {},
   "outputs": [
    {
     "data": {
      "text/plain": [
       "LinearRegression(copy_X=True, fit_intercept=True, n_jobs=None,\n",
       "         normalize=False)"
      ]
     },
     "execution_count": 138,
     "metadata": {},
     "output_type": "execute_result"
    }
   ],
   "source": [
    "linear_reg_model = LinearRegression()\n",
    "linear_reg_model.fit(X, y)"
   ]
  },
  {
   "cell_type": "code",
   "execution_count": 139,
   "metadata": {},
   "outputs": [
    {
     "data": {
      "text/plain": [
       "array([-1.97639231])"
      ]
     },
     "execution_count": 139,
     "metadata": {},
     "output_type": "execute_result"
    }
   ],
   "source": [
    "linear_reg_model.intercept_"
   ]
  },
  {
   "cell_type": "code",
   "execution_count": 140,
   "metadata": {},
   "outputs": [
    {
     "data": {
      "text/plain": [
       "array([[0.07571859]])"
      ]
     },
     "execution_count": 140,
     "metadata": {},
     "output_type": "execute_result"
    }
   ],
   "source": [
    "linear_reg_model.coef_"
   ]
  },
  {
   "cell_type": "code",
   "execution_count": 130,
   "metadata": {},
   "outputs": [
    {
     "name": "stdout",
     "output_type": "stream",
     "text": [
      "25.512\n",
      "38.204\n",
      "58.04\n",
      "28.476\n",
      "26.88\n",
      "108.50399999999999\n",
      "83.652\n",
      "51.199999999999996\n",
      "77.8\n",
      "30.528\n",
      "[[ 26]\n",
      " [ 40]\n",
      " [ 60]\n",
      " [ 22]\n",
      " [ 38]\n",
      " [110]\n",
      " [100]\n",
      " [ 46]\n",
      " [ 57]\n",
      " [ 28]]\n"
     ]
    },
    {
     "data": {
      "text/plain": [
       "(46.92400000000001, 25.04417174999999)"
      ]
     },
     "execution_count": 130,
     "metadata": {},
     "output_type": "execute_result"
    }
   ],
   "source": [
    "w0, w1 = -2, 0.076\n",
    "loss = []\n",
    "for i in range(10):\n",
    "    loss.append(abs(y[i]-(w0+w1*X[i][0])))\n",
    "    print(w0+w1*X[i][0])\n",
    "print(y)\n",
    "loss.remove(max(loss))\n",
    "loss.remove(min(loss))\n",
    "np.sum(loss), np.var(loss)"
   ]
  },
  {
   "cell_type": "code",
   "execution_count": 96,
   "metadata": {},
   "outputs": [
    {
     "data": {
      "text/plain": [
       "33.989937942115674"
      ]
     },
     "execution_count": 96,
     "metadata": {},
     "output_type": "execute_result"
    },
    {
     "data": {
      "text/plain": [
       "34.451110937564074"
      ]
     },
     "execution_count": 96,
     "metadata": {},
     "output_type": "execute_result"
    },
    {
     "data": {
      "text/plain": [
       "34.435"
      ]
     },
     "execution_count": 96,
     "metadata": {},
     "output_type": "execute_result"
    },
    {
     "data": {
      "text/plain": [
       "34.11278447372725"
      ]
     },
     "execution_count": 96,
     "metadata": {},
     "output_type": "execute_result"
    },
    {
     "data": {
      "text/plain": [
       "34.0625"
      ]
     },
     "execution_count": 96,
     "metadata": {},
     "output_type": "execute_result"
    },
    {
     "data": {
      "text/plain": [
       "33.977500000000006"
      ]
     },
     "execution_count": 96,
     "metadata": {},
     "output_type": "execute_result"
    }
   ],
   "source": [
    "0.07571859*475-1.9763923078843249\n",
    "-1.0000023381405847+475*0.07463392268569402\n",
    "-1 + 475 * 0.0746\n",
    "-1.6684710167192687 + 475 * 0.07532895892725583\n",
    "-1.8 + 475 * 0.0755\n",
    "-1.98 + 475 * 0.0757"
   ]
  },
  {
   "cell_type": "code",
   "execution_count": 76,
   "metadata": {},
   "outputs": [
    {
     "data": {
      "text/plain": [
       "array([[1, 2],\n",
       "       [1, 3],\n",
       "       [1, 3]])"
      ]
     },
     "execution_count": 76,
     "metadata": {},
     "output_type": "execute_result"
    }
   ],
   "source": [
    "a1 = [[2],[3],[3]]\n",
    "a2 = [[1],[1],[1]]\n",
    "np.concatenate((a2, a1), axis=1)"
   ]
  },
  {
   "cell_type": "code",
   "execution_count": 78,
   "metadata": {},
   "outputs": [
    {
     "data": {
      "text/plain": [
       "[[1], [1], [1]]"
      ]
     },
     "execution_count": 78,
     "metadata": {},
     "output_type": "execute_result"
    }
   ],
   "source": [
    "a = [[1] for _ in range(3)]\n",
    "a"
   ]
  },
  {
   "cell_type": "code",
   "execution_count": 59,
   "metadata": {},
   "outputs": [
    {
     "data": {
      "text/plain": [
       "array([[ 100,  362],\n",
       "       [ 100,  529],\n",
       "       [ 100,  790],\n",
       "       [ 100,  401],\n",
       "       [ 100,  380],\n",
       "       [ 100, 1454],\n",
       "       [ 100, 1127],\n",
       "       [ 100,  700],\n",
       "       [ 100, 1050],\n",
       "       [ 100,  428]])"
      ]
     },
     "execution_count": 59,
     "metadata": {},
     "output_type": "execute_result"
    },
    {
     "data": {
      "text/plain": [
       "array([[ 26],\n",
       "       [ 40],\n",
       "       [ 60],\n",
       "       [ 22],\n",
       "       [ 38],\n",
       "       [110],\n",
       "       [100],\n",
       "       [ 46],\n",
       "       [ 57],\n",
       "       [ 28]])"
      ]
     },
     "execution_count": 59,
     "metadata": {},
     "output_type": "execute_result"
    }
   ],
   "source": [
    "X = [[362],[529],[790],[401],[380],[1454],[1127],[700],[1050],[428]]\n",
    "X = np.array(X)\n",
    "X = X\n",
    "x = [[100] for i in range(X.shape[0])]\n",
    "X_train = np.concatenate((x, X), axis=1)\n",
    "X_train\n",
    "y = [[26],[40],[60],[22],[38],[110],[100],[46],[57],[28]]\n",
    "y_train = np.array(y)\n",
    "y_train"
   ]
  },
  {
   "cell_type": "code",
   "execution_count": 91,
   "metadata": {},
   "outputs": [],
   "source": [
    "class LinearRegression2:\n",
    "    def __init__(self, alpha=0.00001, reg_lambda=0.0):\n",
    "        self.alpha = alpha\n",
    "        self.W = [[0.01] for _ in range(2)]\n",
    "        \n",
    "    def forward(self, X, W):\n",
    "        _y = X.dot(W)\n",
    "        return _y\n",
    "\n",
    "    def cost(self, _y, y):\n",
    "        cost = np.sum((_y-y) ** 2)\n",
    "        return cost\n",
    "\n",
    "    def backward(self, X, W, y):\n",
    "        _y = self.forward(X, W)\n",
    "        dW = X.T.dot(X.dot(W) - y) / X.shape[0]\n",
    "        return dW\n",
    "\n",
    "    def train(self, X, y):\n",
    "        for b in range(151):\n",
    "            W = self.W\n",
    "            for i in range(50):\n",
    "                dW = self.backward(X, W, y)\n",
    "                W -= self.alpha * dW\n",
    "            _y = self.forward(X, W)\n",
    "            RSS = self.cost(_y, y)\n",
    "            self.updateParameters(W)\n",
    "            if b%10==0:\n",
    "                print('Epoch', b+1, W.T, RSS, _y.T)\n",
    "        return W\n",
    "    \n",
    "    def updateParameters(self, W):\n",
    "        self.W = W"
   ]
  },
  {
   "cell_type": "code",
   "execution_count": 95,
   "metadata": {},
   "outputs": [
    {
     "name": "stdout",
     "output_type": "stream",
     "text": [
      "Epoch 1 [[0.01345511 0.07201715]] 929.8698024929903 [[ 27.41571832  39.44258193  58.23905739  30.22438706  28.71202697\n",
      "  106.05844325  82.50883606  51.75751413  76.96351571  32.16885004]]\n",
      "Epoch 11 [[-0.00727081  0.07432654]] 911.1274434185152 [[ 26.17912611  38.59165814  57.99088486  29.07786113  27.51700381\n",
      "  107.34370686  83.03892856  51.30149634  77.31578504  31.08467769]]\n",
      "Epoch 21 [[-0.01506548  0.07519506]] 908.4765541614828 [[ 25.71406484  38.2716402   57.8975514   28.64667226  27.06757596\n",
      "  107.82707261  83.23828732  51.12999582  77.44826754  30.67693893]]\n",
      "Epoch 31 [[-0.01799692  0.0755217 ]] 908.1016166296 [[ 25.53916322  38.15128691  57.86245028  28.48450947  26.89855379\n",
      "  108.00885824  83.31326275  51.06549739  77.49809195  30.52359533]]\n",
      "Epoch 41 [[-0.01909938  0.07564454]] 908.0485860654445 [[ 25.4733857   38.10602408  57.84924934  28.4235228   26.83498744\n",
      "  108.07722471  83.34145973  51.04124063  77.51683006  30.46592542]]\n",
      "Epoch 51 [[-0.019514    0.07569074]] 908.0410855073636 [[ 25.44864789  38.0890015   57.84428469  28.40058676  26.81108121\n",
      "  108.10293618  83.35206414  51.03211808  77.52387714  30.44423674]]\n",
      "Epoch 61 [[-0.01966993  0.07570811]] 908.0400246404382 [[ 25.43934442  38.0825996   57.84241757  28.3919609   26.80209049\n",
      "  108.11260583  83.35605227  51.02868724  77.52652743  30.43608   ]]\n",
      "Epoch 71 [[-0.01972857  0.07571465]] 908.0398745931187 [[ 25.43584555  38.08019195  57.84171538  28.38871686  26.79870923\n",
      "  108.11624242  83.35755214  51.02739696  77.52752416  30.43301239]]\n",
      "Epoch 81 [[-0.01975063  0.07571711]] 908.0398533706666 [[ 25.43452968  38.07928648  57.8414513   28.38749684  26.7974376\n",
      "  108.11761008  83.35811622  51.02691171  77.52789901  30.43185871]]\n",
      "Epoch 91 [[-0.01975892  0.07571803]] 908.0398503689971 [[ 25.4340348   38.07894595  57.84135198  28.38703801  26.79695936\n",
      "  108.11812443  83.35832836  51.02672921  77.52803999  30.43142484]]\n",
      "Epoch 101 [[-0.01976204  0.07571838]] 908.0398499444452 [[ 25.43384869  38.07881788  57.84131463  28.38686545  26.7967795\n",
      "  108.11831787  83.35840814  51.02666058  77.52809301  30.43126166]]\n",
      "Epoch 111 [[-0.01976322  0.07571851]] 908.0398498843972 [[ 25.4337787   38.07876971  57.84130058  28.38680055  26.79671186\n",
      "  108.11839062  83.35843815  51.02663477  77.52811295  30.4312003 ]]\n",
      "Epoch 121 [[-0.01976366  0.07571856]] 908.0398498759047 [[ 25.43375237  38.0787516   57.8412953   28.38677614  26.79668642\n",
      "  108.11841798  83.35844943  51.02662506  77.52812045  30.43117722]]\n",
      "Epoch 131 [[-0.01976382  0.07571858]] 908.0398498747029 [[ 25.43374247  38.07874479  57.84129331  28.38676696  26.79667685\n",
      "  108.11842827  83.35845367  51.02662141  77.52812327  30.43116854]]\n",
      "Epoch 141 [[-0.01976389  0.07571858]] 908.0398498745334 [[ 25.43373875  38.07874222  57.84129257  28.38676351  26.79667326\n",
      "  108.11843214  83.35845527  51.02662004  77.52812433  30.43116527]]\n",
      "Epoch 151 [[-0.01976391  0.07571859]] 908.039849874509 [[ 25.43373735  38.07874126  57.84129229  28.38676221  26.7966719\n",
      "  108.11843359  83.35845587  51.02661952  77.52812473  30.43116404]]\n"
     ]
    },
    {
     "data": {
      "text/plain": [
       "array([[-0.01976391],\n",
       "       [ 0.07571859]])"
      ]
     },
     "execution_count": 95,
     "metadata": {},
     "output_type": "execute_result"
    },
    {
     "data": {
      "text/plain": [
       "array([[ 26],\n",
       "       [ 40],\n",
       "       [ 60],\n",
       "       [ 22],\n",
       "       [ 38],\n",
       "       [110],\n",
       "       [100],\n",
       "       [ 46],\n",
       "       [ 57],\n",
       "       [ 28]])"
      ]
     },
     "execution_count": 95,
     "metadata": {},
     "output_type": "execute_result"
    }
   ],
   "source": [
    "lr = LinearRegression2(alpha=0.000001)\n",
    "lr.train(X_train, y_train)\n",
    "y_train"
   ]
  },
  {
   "cell_type": "code",
   "execution_count": null,
   "metadata": {},
   "outputs": [],
   "source": []
  }
 ],
 "metadata": {
  "kernelspec": {
   "display_name": "Python 3",
   "language": "python",
   "name": "python3"
  },
  "language_info": {
   "codemirror_mode": {
    "name": "ipython",
    "version": 3
   },
   "file_extension": ".py",
   "mimetype": "text/x-python",
   "name": "python",
   "nbconvert_exporter": "python",
   "pygments_lexer": "ipython3",
   "version": "3.6.7"
  }
 },
 "nbformat": 4,
 "nbformat_minor": 2
}
